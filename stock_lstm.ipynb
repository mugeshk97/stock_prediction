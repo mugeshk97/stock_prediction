{
 "cells": [
  {
   "cell_type": "code",
   "execution_count": 1,
   "metadata": {},
   "outputs": [],
   "source": [
    "import pandas as pd\n",
    "import numpy as np\n",
    "import numpy\n",
    "import matplotlib.pyplot as plt\n",
    "%matplotlib inline"
   ]
  },
  {
   "cell_type": "code",
   "execution_count": 2,
   "metadata": {},
   "outputs": [],
   "source": [
    "data=pd.read_csv('tesla.csv')"
   ]
  },
  {
   "cell_type": "code",
   "execution_count": 3,
   "metadata": {},
   "outputs": [
    {
     "data": {
      "text/html": [
       "<div>\n",
       "<style scoped>\n",
       "    .dataframe tbody tr th:only-of-type {\n",
       "        vertical-align: middle;\n",
       "    }\n",
       "\n",
       "    .dataframe tbody tr th {\n",
       "        vertical-align: top;\n",
       "    }\n",
       "\n",
       "    .dataframe thead th {\n",
       "        text-align: right;\n",
       "    }\n",
       "</style>\n",
       "<table border=\"1\" class=\"dataframe\">\n",
       "  <thead>\n",
       "    <tr style=\"text-align: right;\">\n",
       "      <th></th>\n",
       "      <th>symbol</th>\n",
       "      <th>date</th>\n",
       "      <th>close</th>\n",
       "      <th>high</th>\n",
       "      <th>low</th>\n",
       "      <th>open</th>\n",
       "      <th>volume</th>\n",
       "      <th>adjClose</th>\n",
       "      <th>adjHigh</th>\n",
       "      <th>adjLow</th>\n",
       "      <th>adjOpen</th>\n",
       "      <th>adjVolume</th>\n",
       "      <th>divCash</th>\n",
       "      <th>splitFactor</th>\n",
       "    </tr>\n",
       "  </thead>\n",
       "  <tbody>\n",
       "    <tr>\n",
       "      <th>0</th>\n",
       "      <td>TSLA</td>\n",
       "      <td>2015-06-01 00:00:00+00:00</td>\n",
       "      <td>249.45</td>\n",
       "      <td>251.60</td>\n",
       "      <td>247.47</td>\n",
       "      <td>251.41</td>\n",
       "      <td>2505057</td>\n",
       "      <td>249.45</td>\n",
       "      <td>251.60</td>\n",
       "      <td>247.47</td>\n",
       "      <td>251.41</td>\n",
       "      <td>2505057</td>\n",
       "      <td>0.0</td>\n",
       "      <td>1.0</td>\n",
       "    </tr>\n",
       "    <tr>\n",
       "      <th>1</th>\n",
       "      <td>TSLA</td>\n",
       "      <td>2015-06-02 00:00:00+00:00</td>\n",
       "      <td>248.35</td>\n",
       "      <td>249.40</td>\n",
       "      <td>246.30</td>\n",
       "      <td>248.92</td>\n",
       "      <td>2134809</td>\n",
       "      <td>248.35</td>\n",
       "      <td>249.40</td>\n",
       "      <td>246.30</td>\n",
       "      <td>248.92</td>\n",
       "      <td>2134809</td>\n",
       "      <td>0.0</td>\n",
       "      <td>1.0</td>\n",
       "    </tr>\n",
       "    <tr>\n",
       "      <th>2</th>\n",
       "      <td>TSLA</td>\n",
       "      <td>2015-06-03 00:00:00+00:00</td>\n",
       "      <td>248.99</td>\n",
       "      <td>250.72</td>\n",
       "      <td>247.01</td>\n",
       "      <td>248.20</td>\n",
       "      <td>1781505</td>\n",
       "      <td>248.99</td>\n",
       "      <td>250.72</td>\n",
       "      <td>247.01</td>\n",
       "      <td>248.20</td>\n",
       "      <td>1781505</td>\n",
       "      <td>0.0</td>\n",
       "      <td>1.0</td>\n",
       "    </tr>\n",
       "    <tr>\n",
       "      <th>3</th>\n",
       "      <td>TSLA</td>\n",
       "      <td>2015-06-04 00:00:00+00:00</td>\n",
       "      <td>245.92</td>\n",
       "      <td>249.30</td>\n",
       "      <td>245.71</td>\n",
       "      <td>247.50</td>\n",
       "      <td>2453615</td>\n",
       "      <td>245.92</td>\n",
       "      <td>249.30</td>\n",
       "      <td>245.71</td>\n",
       "      <td>247.50</td>\n",
       "      <td>2453615</td>\n",
       "      <td>0.0</td>\n",
       "      <td>1.0</td>\n",
       "    </tr>\n",
       "    <tr>\n",
       "      <th>4</th>\n",
       "      <td>TSLA</td>\n",
       "      <td>2015-06-05 00:00:00+00:00</td>\n",
       "      <td>249.14</td>\n",
       "      <td>249.70</td>\n",
       "      <td>245.68</td>\n",
       "      <td>246.00</td>\n",
       "      <td>3022026</td>\n",
       "      <td>249.14</td>\n",
       "      <td>249.70</td>\n",
       "      <td>245.68</td>\n",
       "      <td>246.00</td>\n",
       "      <td>3022026</td>\n",
       "      <td>0.0</td>\n",
       "      <td>1.0</td>\n",
       "    </tr>\n",
       "  </tbody>\n",
       "</table>\n",
       "</div>"
      ],
      "text/plain": [
       "  symbol                       date   close    high     low    open   volume  \\\n",
       "0   TSLA  2015-06-01 00:00:00+00:00  249.45  251.60  247.47  251.41  2505057   \n",
       "1   TSLA  2015-06-02 00:00:00+00:00  248.35  249.40  246.30  248.92  2134809   \n",
       "2   TSLA  2015-06-03 00:00:00+00:00  248.99  250.72  247.01  248.20  1781505   \n",
       "3   TSLA  2015-06-04 00:00:00+00:00  245.92  249.30  245.71  247.50  2453615   \n",
       "4   TSLA  2015-06-05 00:00:00+00:00  249.14  249.70  245.68  246.00  3022026   \n",
       "\n",
       "   adjClose  adjHigh  adjLow  adjOpen  adjVolume  divCash  splitFactor  \n",
       "0    249.45   251.60  247.47   251.41    2505057      0.0          1.0  \n",
       "1    248.35   249.40  246.30   248.92    2134809      0.0          1.0  \n",
       "2    248.99   250.72  247.01   248.20    1781505      0.0          1.0  \n",
       "3    245.92   249.30  245.71   247.50    2453615      0.0          1.0  \n",
       "4    249.14   249.70  245.68   246.00    3022026      0.0          1.0  "
      ]
     },
     "execution_count": 3,
     "metadata": {},
     "output_type": "execute_result"
    }
   ],
   "source": [
    "data.head()"
   ]
  },
  {
   "cell_type": "code",
   "execution_count": 4,
   "metadata": {},
   "outputs": [
    {
     "data": {
      "text/html": [
       "<div>\n",
       "<style scoped>\n",
       "    .dataframe tbody tr th:only-of-type {\n",
       "        vertical-align: middle;\n",
       "    }\n",
       "\n",
       "    .dataframe tbody tr th {\n",
       "        vertical-align: top;\n",
       "    }\n",
       "\n",
       "    .dataframe thead th {\n",
       "        text-align: right;\n",
       "    }\n",
       "</style>\n",
       "<table border=\"1\" class=\"dataframe\">\n",
       "  <thead>\n",
       "    <tr style=\"text-align: right;\">\n",
       "      <th></th>\n",
       "      <th>symbol</th>\n",
       "      <th>date</th>\n",
       "      <th>close</th>\n",
       "      <th>high</th>\n",
       "      <th>low</th>\n",
       "      <th>open</th>\n",
       "      <th>volume</th>\n",
       "      <th>adjClose</th>\n",
       "      <th>adjHigh</th>\n",
       "      <th>adjLow</th>\n",
       "      <th>adjOpen</th>\n",
       "      <th>adjVolume</th>\n",
       "      <th>divCash</th>\n",
       "      <th>splitFactor</th>\n",
       "    </tr>\n",
       "  </thead>\n",
       "  <tbody>\n",
       "    <tr>\n",
       "      <th>1253</th>\n",
       "      <td>TSLA</td>\n",
       "      <td>2020-05-21 00:00:00+00:00</td>\n",
       "      <td>827.60</td>\n",
       "      <td>832.50</td>\n",
       "      <td>796.000</td>\n",
       "      <td>816.0000</td>\n",
       "      <td>12182524</td>\n",
       "      <td>827.60</td>\n",
       "      <td>832.50</td>\n",
       "      <td>796.000</td>\n",
       "      <td>816.0000</td>\n",
       "      <td>12182524</td>\n",
       "      <td>0.0</td>\n",
       "      <td>1.0</td>\n",
       "    </tr>\n",
       "    <tr>\n",
       "      <th>1254</th>\n",
       "      <td>TSLA</td>\n",
       "      <td>2020-05-22 00:00:00+00:00</td>\n",
       "      <td>816.88</td>\n",
       "      <td>831.78</td>\n",
       "      <td>812.000</td>\n",
       "      <td>822.1735</td>\n",
       "      <td>9987475</td>\n",
       "      <td>816.88</td>\n",
       "      <td>831.78</td>\n",
       "      <td>812.000</td>\n",
       "      <td>822.1735</td>\n",
       "      <td>9987475</td>\n",
       "      <td>0.0</td>\n",
       "      <td>1.0</td>\n",
       "    </tr>\n",
       "    <tr>\n",
       "      <th>1255</th>\n",
       "      <td>TSLA</td>\n",
       "      <td>2020-05-26 00:00:00+00:00</td>\n",
       "      <td>818.87</td>\n",
       "      <td>834.60</td>\n",
       "      <td>815.705</td>\n",
       "      <td>834.5000</td>\n",
       "      <td>8089736</td>\n",
       "      <td>818.87</td>\n",
       "      <td>834.60</td>\n",
       "      <td>815.705</td>\n",
       "      <td>834.5000</td>\n",
       "      <td>8089736</td>\n",
       "      <td>0.0</td>\n",
       "      <td>1.0</td>\n",
       "    </tr>\n",
       "    <tr>\n",
       "      <th>1256</th>\n",
       "      <td>TSLA</td>\n",
       "      <td>2020-05-27 00:00:00+00:00</td>\n",
       "      <td>820.23</td>\n",
       "      <td>827.71</td>\n",
       "      <td>785.000</td>\n",
       "      <td>820.8600</td>\n",
       "      <td>11549530</td>\n",
       "      <td>820.23</td>\n",
       "      <td>827.71</td>\n",
       "      <td>785.000</td>\n",
       "      <td>820.8600</td>\n",
       "      <td>11549530</td>\n",
       "      <td>0.0</td>\n",
       "      <td>1.0</td>\n",
       "    </tr>\n",
       "    <tr>\n",
       "      <th>1257</th>\n",
       "      <td>TSLA</td>\n",
       "      <td>2020-05-28 00:00:00+00:00</td>\n",
       "      <td>805.81</td>\n",
       "      <td>824.75</td>\n",
       "      <td>801.690</td>\n",
       "      <td>813.5100</td>\n",
       "      <td>7275774</td>\n",
       "      <td>805.81</td>\n",
       "      <td>824.75</td>\n",
       "      <td>801.690</td>\n",
       "      <td>813.5100</td>\n",
       "      <td>7275774</td>\n",
       "      <td>0.0</td>\n",
       "      <td>1.0</td>\n",
       "    </tr>\n",
       "  </tbody>\n",
       "</table>\n",
       "</div>"
      ],
      "text/plain": [
       "     symbol                       date   close    high      low      open  \\\n",
       "1253   TSLA  2020-05-21 00:00:00+00:00  827.60  832.50  796.000  816.0000   \n",
       "1254   TSLA  2020-05-22 00:00:00+00:00  816.88  831.78  812.000  822.1735   \n",
       "1255   TSLA  2020-05-26 00:00:00+00:00  818.87  834.60  815.705  834.5000   \n",
       "1256   TSLA  2020-05-27 00:00:00+00:00  820.23  827.71  785.000  820.8600   \n",
       "1257   TSLA  2020-05-28 00:00:00+00:00  805.81  824.75  801.690  813.5100   \n",
       "\n",
       "        volume  adjClose  adjHigh   adjLow   adjOpen  adjVolume  divCash  \\\n",
       "1253  12182524    827.60   832.50  796.000  816.0000   12182524      0.0   \n",
       "1254   9987475    816.88   831.78  812.000  822.1735    9987475      0.0   \n",
       "1255   8089736    818.87   834.60  815.705  834.5000    8089736      0.0   \n",
       "1256  11549530    820.23   827.71  785.000  820.8600   11549530      0.0   \n",
       "1257   7275774    805.81   824.75  801.690  813.5100    7275774      0.0   \n",
       "\n",
       "      splitFactor  \n",
       "1253          1.0  \n",
       "1254          1.0  \n",
       "1255          1.0  \n",
       "1256          1.0  \n",
       "1257          1.0  "
      ]
     },
     "execution_count": 4,
     "metadata": {},
     "output_type": "execute_result"
    }
   ],
   "source": [
    "data.tail()"
   ]
  },
  {
   "cell_type": "code",
   "execution_count": 5,
   "metadata": {},
   "outputs": [
    {
     "data": {
      "text/plain": [
       "0       249.45\n",
       "1       248.35\n",
       "2       248.99\n",
       "3       245.92\n",
       "4       249.14\n",
       "         ...  \n",
       "1253    827.60\n",
       "1254    816.88\n",
       "1255    818.87\n",
       "1256    820.23\n",
       "1257    805.81\n",
       "Name: close, Length: 1258, dtype: float64"
      ]
     },
     "execution_count": 5,
     "metadata": {},
     "output_type": "execute_result"
    }
   ],
   "source": [
    "df=data.reset_index()['close']\n",
    "df"
   ]
  },
  {
   "cell_type": "code",
   "execution_count": 6,
   "metadata": {},
   "outputs": [
    {
     "data": {
      "text/plain": [
       "<matplotlib.axes._subplots.AxesSubplot at 0x14b13f42388>"
      ]
     },
     "execution_count": 6,
     "metadata": {},
     "output_type": "execute_result"
    },
    {
     "data": {
      "image/png": "[encoded data removed]",
      "text/plain": [
       "<Figure size 432x288 with 1 Axes>"
      ]
     },
     "metadata": {
      "needs_background": "light"
     },
     "output_type": "display_data"
    }
   ],
   "source": [
    "df.plot()"
   ]
  },
  {
   "cell_type": "code",
   "execution_count": 7,
   "metadata": {},
   "outputs": [],
   "source": [
    "from sklearn.preprocessing import MinMaxScaler\n",
    "scaler=MinMaxScaler()\n",
    "df=scaler.fit_transform(np.array(df).reshape(-1,1))"
   ]
  },
  {
   "cell_type": "code",
   "execution_count": 8,
   "metadata": {},
   "outputs": [
    {
     "data": {
      "text/plain": [
       "943"
      ]
     },
     "execution_count": 8,
     "metadata": {},
     "output_type": "execute_result"
    }
   ],
   "source": [
    "##splitting dataset into train and test split\n",
    "training_size=int(len(df)*0.75)\n",
    "training_size"
   ]
  },
  {
   "cell_type": "code",
   "execution_count": 9,
   "metadata": {},
   "outputs": [
    {
     "data": {
      "text/plain": [
       "315"
      ]
     },
     "execution_count": 9,
     "metadata": {},
     "output_type": "execute_result"
    }
   ],
   "source": [
    "test_size=len(df)-training_size\n",
    "test_size"
   ]
  },
  {
   "cell_type": "code",
   "execution_count": 10,
   "metadata": {},
   "outputs": [],
   "source": [
    "train_data,test_data=df[0:training_size],df[training_size:len(df)]"
   ]
  },
  {
   "cell_type": "code",
   "execution_count": 11,
   "metadata": {},
   "outputs": [],
   "source": [
    "def create_data(dataset,time_step):\n",
    "    dataX, dataY = [], []\n",
    "    for i in range(len(dataset)-time_step-1):\n",
    "        a = dataset[i:(i+time_step)]  \n",
    "        dataX.append(a)\n",
    "        dataY.append(dataset[i + time_step])\n",
    "    return np.array(dataX), np.array(dataY)"
   ]
  },
  {
   "cell_type": "code",
   "execution_count": 12,
   "metadata": {},
   "outputs": [],
   "source": [
    "time_step = 100\n",
    "X_train, y_train = create_data(train_data, time_step)\n",
    "X_test, ytest = create_data(test_data, time_step)"
   ]
  },
  {
   "cell_type": "code",
   "execution_count": 13,
   "metadata": {},
   "outputs": [],
   "source": [
    "X_train =X_train.reshape(X_train.shape[0],X_train.shape[1] , 1)\n",
    "X_test = X_test.reshape(X_test.shape[0],X_test.shape[1] , 1)"
   ]
  },
  {
   "cell_type": "code",
   "execution_count": 14,
   "metadata": {},
   "outputs": [],
   "source": [
    "import tensorflow as tf\n",
    "physical_devices=tf.config.experimental.list_physical_devices('GPU')\n",
    "tf.config.experimental.set_memory_growth(physical_devices[0],True)\n",
    "from tensorflow.keras.models import Sequential\n",
    "from tensorflow.keras.layers import Dense\n",
    "from tensorflow.keras.layers import LSTM\n",
    "from tensorflow.keras.optimizers import Adam"
   ]
  },
  {
   "cell_type": "code",
   "execution_count": 15,
   "metadata": {},
   "outputs": [],
   "source": [
    "model=Sequential()\n",
    "model.add(LSTM(50,return_sequences=True,input_shape=(100,1)))\n",
    "model.add(LSTM(50,return_sequences=True))\n",
    "model.add(LSTM(50))\n",
    "model.add(Dense(1))\n",
    "model.compile(loss='mean_squared_error',optimizer='Adam')"
   ]
  },
  {
   "cell_type": "code",
   "execution_count": 16,
   "metadata": {},
   "outputs": [
    {
     "name": "stdout",
     "output_type": "stream",
     "text": [
      "Model: \"sequential\"\n",
      "_________________________________________________________________\n",
      "Layer (type)                 Output Shape              Param #   \n",
      "=================================================================\n",
      "lstm (LSTM)                  (None, 100, 50)           10400     \n",
      "_________________________________________________________________\n",
      "lstm_1 (LSTM)                (None, 100, 50)           20200     \n",
      "_________________________________________________________________\n",
      "lstm_2 (LSTM)                (None, 50)                20200     \n",
      "_________________________________________________________________\n",
      "dense (Dense)                (None, 1)                 51        \n",
      "=================================================================\n",
      "Total params: 50,851\n",
      "Trainable params: 50,851\n",
      "Non-trainable params: 0\n",
      "_________________________________________________________________\n"
     ]
    }
   ],
   "source": [
    "model.summary()"
   ]
  },
  {
   "cell_type": "code",
   "execution_count": 17,
   "metadata": {},
   "outputs": [
    {
     "name": "stdout",
     "output_type": "stream",
     "text": [
      "Train on 842 samples, validate on 214 samples\n",
      "Epoch 1/100\n",
      "842/842 [==============================] - 6s 8ms/sample - loss: 0.0089 - val_loss: 0.0827\n",
      "Epoch 2/100\n",
      "842/842 [==============================] - 0s 502us/sample - loss: 0.0026 - val_loss: 0.0432\n",
      "Epoch 3/100\n",
      "842/842 [==============================] - 0s 512us/sample - loss: 0.0014 - val_loss: 0.0203\n",
      "Epoch 4/100\n",
      "842/842 [==============================] - 0s 520us/sample - loss: 9.3220e-04 - val_loss: 0.0160\n",
      "Epoch 5/100\n",
      "842/842 [==============================] - 0s 503us/sample - loss: 8.5466e-04 - val_loss: 0.0171\n",
      "Epoch 6/100\n",
      "842/842 [==============================] - 0s 539us/sample - loss: 7.7063e-04 - val_loss: 0.0187\n",
      "Epoch 7/100\n",
      "842/842 [==============================] - 0s 516us/sample - loss: 7.5049e-04 - val_loss: 0.0152\n",
      "Epoch 8/100\n",
      "842/842 [==============================] - 0s 528us/sample - loss: 8.1231e-04 - val_loss: 0.0153\n",
      "Epoch 9/100\n",
      "842/842 [==============================] - 0s 507us/sample - loss: 7.2837e-04 - val_loss: 0.0163\n",
      "Epoch 10/100\n",
      "842/842 [==============================] - 0s 503us/sample - loss: 6.9478e-04 - val_loss: 0.0144\n",
      "Epoch 11/100\n",
      "842/842 [==============================] - 0s 497us/sample - loss: 6.7699e-04 - val_loss: 0.0153\n",
      "Epoch 12/100\n",
      "842/842 [==============================] - 0s 533us/sample - loss: 6.6456e-04 - val_loss: 0.0150\n",
      "Epoch 13/100\n",
      "842/842 [==============================] - 0s 570us/sample - loss: 6.7505e-04 - val_loss: 0.0117\n",
      "Epoch 14/100\n",
      "842/842 [==============================] - 0s 497us/sample - loss: 6.6292e-04 - val_loss: 0.0120\n",
      "Epoch 15/100\n",
      "842/842 [==============================] - 0s 496us/sample - loss: 6.0755e-04 - val_loss: 0.0119\n",
      "Epoch 16/100\n",
      "842/842 [==============================] - 0s 550us/sample - loss: 5.8570e-04 - val_loss: 0.0122\n",
      "Epoch 17/100\n",
      "842/842 [==============================] - 0s 546us/sample - loss: 5.7322e-04 - val_loss: 0.0092\n",
      "Epoch 18/100\n",
      "842/842 [==============================] - 0s 522us/sample - loss: 5.6330e-04 - val_loss: 0.0119\n",
      "Epoch 19/100\n",
      "842/842 [==============================] - 0s 516us/sample - loss: 5.7652e-04 - val_loss: 0.0096\n",
      "Epoch 20/100\n",
      "842/842 [==============================] - 0s 507us/sample - loss: 5.3718e-04 - val_loss: 0.0096\n",
      "Epoch 21/100\n",
      "842/842 [==============================] - 0s 521us/sample - loss: 5.1736e-04 - val_loss: 0.0106\n",
      "Epoch 22/100\n",
      "842/842 [==============================] - 0s 514us/sample - loss: 5.0038e-04 - val_loss: 0.0099\n",
      "Epoch 23/100\n",
      "842/842 [==============================] - 0s 511us/sample - loss: 4.9000e-04 - val_loss: 0.0106\n",
      "Epoch 24/100\n",
      "842/842 [==============================] - 0s 493us/sample - loss: 5.1102e-04 - val_loss: 0.0088\n",
      "Epoch 25/100\n",
      "842/842 [==============================] - 0s 512us/sample - loss: 4.8254e-04 - val_loss: 0.0084\n",
      "Epoch 26/100\n",
      "842/842 [==============================] - 0s 584us/sample - loss: 4.8447e-04 - val_loss: 0.0108\n",
      "Epoch 27/100\n",
      "842/842 [==============================] - 0s 550us/sample - loss: 4.4813e-04 - val_loss: 0.0099\n",
      "Epoch 28/100\n",
      "842/842 [==============================] - 0s 512us/sample - loss: 4.4579e-04 - val_loss: 0.0085\n",
      "Epoch 29/100\n",
      "842/842 [==============================] - 0s 502us/sample - loss: 4.6251e-04 - val_loss: 0.0115\n",
      "Epoch 30/100\n",
      "842/842 [==============================] - 0s 576us/sample - loss: 4.1339e-04 - val_loss: 0.0132\n",
      "Epoch 31/100\n",
      "842/842 [==============================] - 0s 508us/sample - loss: 4.2140e-04 - val_loss: 0.0100\n",
      "Epoch 32/100\n",
      "842/842 [==============================] - 0s 537us/sample - loss: 3.8686e-04 - val_loss: 0.0129\n",
      "Epoch 33/100\n",
      "842/842 [==============================] - 0s 500us/sample - loss: 3.9575e-04 - val_loss: 0.0095\n",
      "Epoch 34/100\n",
      "842/842 [==============================] - 0s 496us/sample - loss: 3.9193e-04 - val_loss: 0.0129\n",
      "Epoch 35/100\n",
      "842/842 [==============================] - 0s 525us/sample - loss: 4.0040e-04 - val_loss: 0.0144\n",
      "Epoch 36/100\n",
      "842/842 [==============================] - 0s 514us/sample - loss: 4.1155e-04 - val_loss: 0.0088\n",
      "Epoch 37/100\n",
      "842/842 [==============================] - 0s 518us/sample - loss: 3.8867e-04 - val_loss: 0.0125\n",
      "Epoch 38/100\n",
      "842/842 [==============================] - 0s 526us/sample - loss: 3.5662e-04 - val_loss: 0.0111\n",
      "Epoch 39/100\n",
      "842/842 [==============================] - 0s 522us/sample - loss: 3.5850e-04 - val_loss: 0.0116\n",
      "Epoch 40/100\n",
      "842/842 [==============================] - 0s 564us/sample - loss: 3.3309e-04 - val_loss: 0.0115\n",
      "Epoch 41/100\n",
      "842/842 [==============================] - 0s 514us/sample - loss: 3.1786e-04 - val_loss: 0.0131\n",
      "Epoch 42/100\n",
      "842/842 [==============================] - 0s 512us/sample - loss: 3.2712e-04 - val_loss: 0.0117\n",
      "Epoch 43/100\n",
      "842/842 [==============================] - 0s 531us/sample - loss: 3.4446e-04 - val_loss: 0.0132\n",
      "Epoch 44/100\n",
      "842/842 [==============================] - 0s 579us/sample - loss: 3.2726e-04 - val_loss: 0.0126\n",
      "Epoch 45/100\n",
      "842/842 [==============================] - 0s 513us/sample - loss: 3.1050e-04 - val_loss: 0.0070\n",
      "Epoch 46/100\n",
      "842/842 [==============================] - 0s 526us/sample - loss: 3.4663e-04 - val_loss: 0.0098\n",
      "Epoch 47/100\n",
      "842/842 [==============================] - 0s 522us/sample - loss: 3.2170e-04 - val_loss: 0.0120\n",
      "Epoch 48/100\n",
      "842/842 [==============================] - 0s 509us/sample - loss: 2.9950e-04 - val_loss: 0.0088\n",
      "Epoch 49/100\n",
      "842/842 [==============================] - 0s 522us/sample - loss: 2.7845e-04 - val_loss: 0.0111\n",
      "Epoch 50/100\n",
      "842/842 [==============================] - 0s 515us/sample - loss: 2.8567e-04 - val_loss: 0.0094\n",
      "Epoch 51/100\n",
      "842/842 [==============================] - 0s 500us/sample - loss: 2.7495e-04 - val_loss: 0.0086\n",
      "Epoch 52/100\n",
      "842/842 [==============================] - 0s 520us/sample - loss: 2.6879e-04 - val_loss: 0.0119\n",
      "Epoch 53/100\n",
      "842/842 [==============================] - 0s 567us/sample - loss: 2.8811e-04 - val_loss: 0.0109\n",
      "Epoch 54/100\n",
      "842/842 [==============================] - 0s 567us/sample - loss: 2.6003e-04 - val_loss: 0.0092\n",
      "Epoch 55/100\n",
      "842/842 [==============================] - 0s 522us/sample - loss: 2.5664e-04 - val_loss: 0.0068\n",
      "Epoch 56/100\n",
      "842/842 [==============================] - 0s 533us/sample - loss: 2.7137e-04 - val_loss: 0.0086\n",
      "Epoch 57/100\n",
      "842/842 [==============================] - 0s 590us/sample - loss: 2.3844e-04 - val_loss: 0.0099\n",
      "Epoch 58/100\n",
      "842/842 [==============================] - 0s 537us/sample - loss: 2.4489e-04 - val_loss: 0.0099\n",
      "Epoch 59/100\n",
      "842/842 [==============================] - 0s 526us/sample - loss: 2.3006e-04 - val_loss: 0.0092\n",
      "Epoch 60/100\n",
      "842/842 [==============================] - 0s 528us/sample - loss: 2.2461e-04 - val_loss: 0.0079\n",
      "Epoch 61/100\n",
      "842/842 [==============================] - 0s 525us/sample - loss: 2.2056e-04 - val_loss: 0.0082\n",
      "Epoch 62/100\n",
      "842/842 [==============================] - 0s 529us/sample - loss: 2.2571e-04 - val_loss: 0.0075\n",
      "Epoch 63/100\n",
      "842/842 [==============================] - 0s 537us/sample - loss: 2.1149e-04 - val_loss: 0.0066\n",
      "Epoch 64/100\n",
      "842/842 [==============================] - 0s 532us/sample - loss: 2.1341e-04 - val_loss: 0.0072\n",
      "Epoch 65/100\n",
      "842/842 [==============================] - 0s 515us/sample - loss: 2.0075e-04 - val_loss: 0.0067\n",
      "Epoch 66/100\n",
      "842/842 [==============================] - 0s 572us/sample - loss: 2.0334e-04 - val_loss: 0.0051\n",
      "Epoch 67/100\n",
      "842/842 [==============================] - 0s 569us/sample - loss: 2.2566e-04 - val_loss: 0.0056\n",
      "Epoch 68/100\n",
      "842/842 [==============================] - 0s 521us/sample - loss: 2.2257e-04 - val_loss: 0.0057\n",
      "Epoch 69/100\n",
      "842/842 [==============================] - 0s 520us/sample - loss: 1.9379e-04 - val_loss: 0.0061\n",
      "Epoch 70/100\n",
      "842/842 [==============================] - 0s 556us/sample - loss: 2.0193e-04 - val_loss: 0.0052\n",
      "Epoch 71/100\n",
      "842/842 [==============================] - 0s 584us/sample - loss: 1.9763e-04 - val_loss: 0.0060\n",
      "Epoch 72/100\n",
      "842/842 [==============================] - 0s 534us/sample - loss: 1.9235e-04 - val_loss: 0.0068\n",
      "Epoch 73/100\n",
      "842/842 [==============================] - 0s 520us/sample - loss: 1.9993e-04 - val_loss: 0.0055\n",
      "Epoch 74/100\n",
      "842/842 [==============================] - 0s 539us/sample - loss: 1.8784e-04 - val_loss: 0.0041\n",
      "Epoch 75/100\n"
     ]
    },
    {
     "name": "stdout",
     "output_type": "stream",
     "text": [
      "842/842 [==============================] - 0s 529us/sample - loss: 1.8735e-04 - val_loss: 0.0048\n",
      "Epoch 76/100\n",
      "842/842 [==============================] - 0s 525us/sample - loss: 1.9108e-04 - val_loss: 0.0083\n",
      "Epoch 77/100\n",
      "842/842 [==============================] - 0s 508us/sample - loss: 2.1290e-04 - val_loss: 0.0057\n",
      "Epoch 78/100\n",
      "842/842 [==============================] - 0s 533us/sample - loss: 1.8575e-04 - val_loss: 0.0045\n",
      "Epoch 79/100\n",
      "842/842 [==============================] - 0s 507us/sample - loss: 2.0777e-04 - val_loss: 0.0054\n",
      "Epoch 80/100\n",
      "842/842 [==============================] - 0s 508us/sample - loss: 1.9957e-04 - val_loss: 0.0055\n",
      "Epoch 81/100\n",
      "842/842 [==============================] - 0s 534us/sample - loss: 1.7598e-04 - val_loss: 0.0073\n",
      "Epoch 82/100\n",
      "842/842 [==============================] - 0s 566us/sample - loss: 1.9095e-04 - val_loss: 0.0046\n",
      "Epoch 83/100\n",
      "842/842 [==============================] - 0s 572us/sample - loss: 1.9449e-04 - val_loss: 0.0027\n",
      "Epoch 84/100\n",
      "842/842 [==============================] - 0s 524us/sample - loss: 2.9596e-04 - val_loss: 0.0050\n",
      "Epoch 85/100\n",
      "842/842 [==============================] - 0s 537us/sample - loss: 1.9917e-04 - val_loss: 0.0094\n",
      "Epoch 86/100\n",
      "842/842 [==============================] - 1s 598us/sample - loss: 2.4857e-04 - val_loss: 0.0056\n",
      "Epoch 87/100\n",
      "842/842 [==============================] - 0s 518us/sample - loss: 1.7400e-04 - val_loss: 0.0041\n",
      "Epoch 88/100\n",
      "842/842 [==============================] - ETA: 0s - loss: 1.6900e-0 - 0s 521us/sample - loss: 1.6923e-04 - val_loss: 0.0067\n",
      "Epoch 89/100\n",
      "842/842 [==============================] - 0s 499us/sample - loss: 1.7033e-04 - val_loss: 0.0039\n",
      "Epoch 90/100\n",
      "842/842 [==============================] - 0s 535us/sample - loss: 1.7959e-04 - val_loss: 0.0043\n",
      "Epoch 91/100\n",
      "842/842 [==============================] - 0s 525us/sample - loss: 1.7154e-04 - val_loss: 0.0055\n",
      "Epoch 92/100\n",
      "842/842 [==============================] - 0s 509us/sample - loss: 1.6707e-04 - val_loss: 0.0051\n",
      "Epoch 93/100\n",
      "842/842 [==============================] - 0s 546us/sample - loss: 1.5526e-04 - val_loss: 0.0050\n",
      "Epoch 94/100\n",
      "842/842 [==============================] - 0s 503us/sample - loss: 1.5180e-04 - val_loss: 0.0043\n",
      "Epoch 95/100\n",
      "842/842 [==============================] - 1s 599us/sample - loss: 1.4961e-04 - val_loss: 0.0053\n",
      "Epoch 96/100\n",
      "842/842 [==============================] - 0s 564us/sample - loss: 1.5175e-04 - val_loss: 0.0047\n",
      "Epoch 97/100\n",
      "842/842 [==============================] - 0s 532us/sample - loss: 1.5272e-04 - val_loss: 0.0056\n",
      "Epoch 98/100\n",
      "842/842 [==============================] - 0s 524us/sample - loss: 1.5567e-04 - val_loss: 0.0039\n",
      "Epoch 99/100\n",
      "842/842 [==============================] - 0s 592us/sample - loss: 1.6035e-04 - val_loss: 0.0046\n",
      "Epoch 100/100\n",
      "842/842 [==============================] - 0s 563us/sample - loss: 1.4211e-04 - val_loss: 0.0050\n"
     ]
    },
    {
     "data": {
      "text/plain": [
       "<tensorflow.python.keras.callbacks.History at 0x14b446742c8>"
      ]
     },
     "execution_count": 17,
     "metadata": {},
     "output_type": "execute_result"
    }
   ],
   "source": [
    "model.fit(X_train,y_train,validation_data=(X_test,ytest),epochs=100,batch_size=64,verbose=1)"
   ]
  },
  {
   "cell_type": "code",
   "execution_count": 18,
   "metadata": {},
   "outputs": [],
   "source": [
    "train_predict=model.predict(X_train)\n",
    "test_predict=model.predict(X_test)"
   ]
  },
  {
   "cell_type": "code",
   "execution_count": 19,
   "metadata": {},
   "outputs": [],
   "source": [
    "train_predict=scaler.inverse_transform(train_predict)\n",
    "test_predict=scaler.inverse_transform(test_predict)"
   ]
  },
  {
   "cell_type": "markdown",
   "metadata": {},
   "source": [
    "*FORECASTING*"
   ]
  },
  {
   "cell_type": "code",
   "execution_count": 20,
   "metadata": {},
   "outputs": [
    {
     "data": {
      "text/plain": [
       "(1, 100)"
      ]
     },
     "execution_count": 20,
     "metadata": {},
     "output_type": "execute_result"
    }
   ],
   "source": [
    "x_input=test_data[215:].reshape(1,-1)\n",
    "x_input.shape"
   ]
  },
  {
   "cell_type": "code",
   "execution_count": 21,
   "metadata": {},
   "outputs": [],
   "source": [
    "def forecast(input_data,days):\n",
    "    temp_input=list(input_data)\n",
    "    temp_input=temp_input[0].tolist()\n",
    "    output=list()\n",
    "    i=0\n",
    "    n_steps=100\n",
    "    while (i<days):\n",
    "        if (len(temp_input)>n_steps):\n",
    "            x_input=np.array(temp_input[1:])\n",
    "            x_input=x_input.reshape(1,-1)\n",
    "            x_input = x_input.reshape((1,n_steps,1))\n",
    "            yhat = model.predict(x_input, verbose=0)\n",
    "            temp_input.extend(yhat[0].tolist())\n",
    "            temp_input=temp_input[1:]\n",
    "            output.extend(yhat.tolist())\n",
    "            i=i+1\n",
    "        else:\n",
    "            x_input = input_data.reshape((1,n_steps,1))\n",
    "            yhat = model.predict(x_input, verbose=0)\n",
    "            temp_input.extend(yhat[0].tolist())\n",
    "            output.extend(yhat.tolist())\n",
    "            i=i+1\n",
    "    return scaler.inverse_transform(output).tolist()"
   ]
  },
  {
   "cell_type": "code",
   "execution_count": 23,
   "metadata": {},
   "outputs": [
    {
     "data": {
      "text/plain": [
       "[[708.6556954067945],\n",
       " [614.4125261288881],\n",
       " [534.9612260740995],\n",
       " [488.0950489771366],\n",
       " [469.32649170428516],\n",
       " [467.66269927293064],\n",
       " [473.71529997706415],\n",
       " [481.516506126225],\n",
       " [487.61822366535665],\n",
       " [490.2123996374011],\n",
       " [488.7085943427682],\n",
       " [483.4636312109232],\n",
       " [475.4595702272654],\n",
       " [465.9305122253299],\n",
       " [456.0331010204554],\n",
       " [446.6372119021416],\n",
       " [438.2553663608432],\n",
       " [431.07840520709755],\n",
       " [425.0638758149743],\n",
       " [420.0346808639169],\n",
       " [415.7598098126054],\n",
       " [412.01046583622696],\n",
       " [408.5923030731082],\n",
       " [405.359193174243],\n",
       " [402.2150239479542],\n",
       " [399.1073349249363],\n",
       " [396.01758622944357],\n",
       " [392.94995163947345],\n",
       " [389.9210109692812],\n",
       " [386.9518175852299]]"
      ]
     },
     "execution_count": 23,
     "metadata": {},
     "output_type": "execute_result"
    }
   ],
   "source": [
    "# prediction for next 30 days\n",
    "forecast(x_input,30)"
   ]
  },
  {
   "cell_type": "code",
   "execution_count": null,
   "metadata": {},
   "outputs": [],
   "source": []
  }
 ],
 "metadata": {
  "kernelspec": {
   "display_name": "Python 3",
   "language": "python",
   "name": "python3"
  },
  "language_info": {
   "codemirror_mode": {
    "name": "ipython",
    "version": 3
   },
   "file_extension": ".py",
   "mimetype": "text/x-python",
   "name": "python",
   "nbconvert_exporter": "python",
   "pygments_lexer": "ipython3",
   "version": "3.7.6"
  }
 },
 "nbformat": 4,
 "nbformat_minor": 4
}
